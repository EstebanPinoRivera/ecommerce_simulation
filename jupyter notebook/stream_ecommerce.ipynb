{
 "cells": [
  {
   "cell_type": "code",
   "execution_count": 1,
   "metadata": {},
   "outputs": [],
   "source": [
    "import pandas as pd \n",
    "import json\n",
    "import random\n",
    "import time\n",
    "import hashlib"
   ]
  },
  {
   "cell_type": "code",
   "execution_count": 2,
   "metadata": {},
   "outputs": [],
   "source": [
    "cities = ['Los Ángeles', 'Concepción', 'Santiago']\n",
    "payment_online = ['Credit_card', 'Debit_card']\n",
    "payment_store = ['Cash', 'Credit_card', 'Debit_card']\n",
    "source = ['Online', 'On-site']\n",
    "status_purchase = ['COMPLETED','FAILED_CHECKOUT','FAILED_API_RESPONSE','INSUFICCIENT_FUNDS','COMPLETED','COMPLETED','COMPLETED','COMPLETED','COMPLETED','COMPLETED','FAILED_API_RESPONSE','INSUFICCIENT_FUNDS','USER_ERROR','FRAUD','COMPLETED','COMPLETED','COMPLETED']"
   ]
  },
  {
   "cell_type": "code",
   "execution_count": 3,
   "metadata": {},
   "outputs": [],
   "source": [
    "la_city = [(-37.46827078074566, -72.35255427015483)]\n",
    "conce_city = [(-36.82574208790205, -73.0484756767045)]\n",
    "stgo_city = [(-33.41811053129037, -70.6069033367)]"
   ]
  },
  {
   "cell_type": "code",
   "execution_count": 4,
   "metadata": {},
   "outputs": [
    {
     "data": {
      "text/plain": [
       "'Debit_card'"
      ]
     },
     "execution_count": 4,
     "metadata": {},
     "output_type": "execute_result"
    }
   ],
   "source": [
    "random.choice(payment_store)"
   ]
  },
  {
   "cell_type": "code",
   "execution_count": 5,
   "metadata": {},
   "outputs": [],
   "source": [
    "def get_pay_method(source, status_purchase, payment_online, payment_store):\n",
    "    if source == 'On-site':\n",
    "        payment = random.choice(payment_store)\n",
    "        status = 'COMPLETED'\n",
    "        order_type = 'STORE'\n",
    "    elif source == 'Online':\n",
    "        payment = random.choice(payment_online)\n",
    "        status = random.choice(status_purchase)\n",
    "        order_type = 'ONLINE'\n",
    "    return payment, status, order_type\n",
    "\n",
    "def get_coords(city):\n",
    "    if city == 'Los Ángeles':\n",
    "        coords = random.choice(la_city)\n",
    "    elif city == 'Concepción':\n",
    "        coords = random.choice(conce_city)\n",
    "    elif city == 'Santiago':\n",
    "        coords = random.choice(stgo_city)\n",
    "    return coords"
   ]
  },
  {
   "cell_type": "code",
   "execution_count": 6,
   "metadata": {},
   "outputs": [
    {
     "data": {
      "text/plain": [
       "('Credit_card', 'COMPLETED', 'STORE')"
      ]
     },
     "execution_count": 6,
     "metadata": {},
     "output_type": "execute_result"
    }
   ],
   "source": [
    "get_pay_method('On-site',status_purchase,payment_online,payment_store)"
   ]
  },
  {
   "cell_type": "code",
   "execution_count": 12,
   "metadata": {},
   "outputs": [
    {
     "name": "stdout",
     "output_type": "stream",
     "text": [
      "Los Ángeles | (-37.46827078074566, -72.35255427015483)\n"
     ]
    }
   ],
   "source": [
    "city = random.choice(cities)\n",
    "coords = get_coords(city)\n",
    "print(f'{city} | {coords}')"
   ]
  },
  {
   "cell_type": "code",
   "execution_count": 13,
   "metadata": {},
   "outputs": [
    {
     "data": {
      "text/html": [
       "<div>\n",
       "<style scoped>\n",
       "    .dataframe tbody tr th:only-of-type {\n",
       "        vertical-align: middle;\n",
       "    }\n",
       "\n",
       "    .dataframe tbody tr th {\n",
       "        vertical-align: top;\n",
       "    }\n",
       "\n",
       "    .dataframe thead th {\n",
       "        text-align: right;\n",
       "    }\n",
       "</style>\n",
       "<table border=\"1\" class=\"dataframe\">\n",
       "  <thead>\n",
       "    <tr style=\"text-align: right;\">\n",
       "      <th></th>\n",
       "      <th>PRODUCT_NAME</th>\n",
       "      <th>PRICING</th>\n",
       "      <th>BRAND</th>\n",
       "      <th>CATEGORY</th>\n",
       "    </tr>\n",
       "  </thead>\n",
       "  <tbody>\n",
       "    <tr>\n",
       "      <th>0</th>\n",
       "      <td>LED 50” AU7090 4K UHD Smart TV 2022</td>\n",
       "      <td>309990</td>\n",
       "      <td>Samsung</td>\n",
       "      <td>TV y Video</td>\n",
       "    </tr>\n",
       "    <tr>\n",
       "      <th>1</th>\n",
       "      <td>Smart Watch GT 4 46MM Negro</td>\n",
       "      <td>189990</td>\n",
       "      <td>Huawei</td>\n",
       "      <td>Wearables</td>\n",
       "    </tr>\n",
       "    <tr>\n",
       "      <th>2</th>\n",
       "      <td>Cámara Reflex T7+Lente 18-55 Is</td>\n",
       "      <td>549990</td>\n",
       "      <td>Canon</td>\n",
       "      <td>Fotografía</td>\n",
       "    </tr>\n",
       "    <tr>\n",
       "      <th>3</th>\n",
       "      <td>Parlante Bluetooth Woburn</td>\n",
       "      <td>599990</td>\n",
       "      <td>Marshall</td>\n",
       "      <td>Audio</td>\n",
       "    </tr>\n",
       "    <tr>\n",
       "      <th>4</th>\n",
       "      <td>AirPods 2ª Generación Con Estuche De Carga</td>\n",
       "      <td>149990</td>\n",
       "      <td>Apple</td>\n",
       "      <td>Audio</td>\n",
       "    </tr>\n",
       "  </tbody>\n",
       "</table>\n",
       "</div>"
      ],
      "text/plain": [
       "                                  PRODUCT_NAME  PRICING      BRAND    CATEGORY\n",
       "0          LED 50” AU7090 4K UHD Smart TV 2022   309990    Samsung  TV y Video\n",
       "1                  Smart Watch GT 4 46MM Negro   189990     Huawei   Wearables\n",
       "2              Cámara Reflex T7+Lente 18-55 Is   549990      Canon  Fotografía\n",
       "3                    Parlante Bluetooth Woburn   599990  Marshall        Audio\n",
       "4  AirPods 2ª Generación Con Estuche De Carga    149990      Apple       Audio"
      ]
     },
     "execution_count": 13,
     "metadata": {},
     "output_type": "execute_result"
    }
   ],
   "source": [
    "df = pd.read_excel('products.xlsx')\n",
    "df.head(5)"
   ]
  },
  {
   "cell_type": "code",
   "execution_count": 14,
   "metadata": {},
   "outputs": [
    {
     "name": "stdout",
     "output_type": "stream",
     "text": [
      "{'purchase_id': 'b62cfc0e16', 'product_name': 'Apple iPhone 15 Pro 128GB', 'price': '1179990', 'Payment_Mehtod': 'Cash', 'Status': 'COMPLETED', 'Order_Type': 'STORE', 'City': 'Los Ángeles', 'Latitude': '-37.46827078074566', 'Longitude': '-72.35255427015483', 'Source': 'On-site', 'Brand': 'Apple', 'Category': 'Celulares y Teléfonos', 'Created_at': '2024-01-13 20:56:15'}\n",
      "{'purchase_id': '66ef7d46d6', 'product_name': 'LED 50” AU7090 4K UHD Smart TV 2022', 'price': '309990', 'Payment_Mehtod': 'Debit_card', 'Status': 'FRAUD', 'Order_Type': 'ONLINE', 'City': 'Santiago', 'Latitude': '-33.41811053129037', 'Longitude': '-70.6069033367', 'Source': 'Online', 'Brand': 'Samsung', 'Category': 'TV y Video', 'Created_at': '2024-01-13 20:56:17'}\n",
      "{'purchase_id': '9d3403646b', 'product_name': 'LED 50” AU7090 4K UHD Smart TV 2022', 'price': '309990', 'Payment_Mehtod': 'Debit_card', 'Status': 'COMPLETED', 'Order_Type': 'STORE', 'City': 'Concepción', 'Latitude': '-36.82574208790205', 'Longitude': '-73.0484756767045', 'Source': 'On-site', 'Brand': 'Samsung', 'Category': 'TV y Video', 'Created_at': '2024-01-13 20:56:18'}\n",
      "{'purchase_id': '17929d93b3', 'product_name': 'Celular Samsung Galaxy S23 Ultra 512GB', 'price': '1199990', 'Payment_Mehtod': 'Cash', 'Status': 'COMPLETED', 'Order_Type': 'STORE', 'City': 'Concepción', 'Latitude': '-36.82574208790205', 'Longitude': '-73.0484756767045', 'Source': 'On-site', 'Brand': 'Samsung', 'Category': 'Celulares y Teléfonos', 'Created_at': '2024-01-13 20:56:20'}\n",
      "{'purchase_id': '9d3dddd2c6', 'product_name': 'Mouse Gamer G203 Prodigy Logitech', 'price': '19990', 'Payment_Mehtod': 'Credit_card', 'Status': 'COMPLETED', 'Order_Type': 'STORE', 'City': 'Los Ángeles', 'Latitude': '-37.46827078074566', 'Longitude': '-72.35255427015483', 'Source': 'On-site', 'Brand': 'Logitech', 'Category': 'Computadores', 'Created_at': '2024-01-13 20:56:21'}\n"
     ]
    }
   ],
   "source": [
    "x = 0\n",
    "data_purchase = []\n",
    "\n",
    "while (x < 5):\n",
    "    date = pd.to_datetime('today').strftime('%Y-%m-%d %H:%M:%S')\n",
    "    \n",
    "    product = df['PRODUCT_NAME'][random.randint(0,14)]\n",
    "    price = df[df['PRODUCT_NAME'] == product]['PRICING'].values[0]\n",
    "    brand = df[df['PRODUCT_NAME'] == product]['BRAND'].values[0]\n",
    "    category = df[df['PRODUCT_NAME'] == product]['CATEGORY'].values[0]\n",
    "    source_choice = random.choice(source)\n",
    "    pay = get_pay_method(source_choice, status_purchase, payment_online, payment_store)\n",
    "    city = random.choice(cities)\n",
    "    \n",
    "    purchase = {\n",
    "        'purchase_id': str(hashlib.sha256(f\"{x} {product} {price} {date} {source_choice} {pay[1]}\".encode('utf-8')).hexdigest()[:10]),\n",
    "        'product_name' : product,\n",
    "        'price': str(price),\n",
    "        'Payment_Mehtod':pay[0],\n",
    "        'Status' : pay[1],\n",
    "        'Order_Type' : pay[2],\n",
    "        'City': city,\n",
    "        'Latitude' : str(get_coords(city)[0]) ,\n",
    "        'Longitude' :  str(get_coords(city)[1]),\n",
    "        'Source':source_choice,\n",
    "        'Brand' : brand,\n",
    "        'Category': category,\n",
    "        'Created_at': date\n",
    "    }\n",
    "    \n",
    "    data_purchase.append(pd.DataFrame(purchase, index=[x]))\n",
    "    print(purchase)\n",
    "    x+=1\n",
    "    time.sleep(random.choice([1,2]))"
   ]
  },
  {
   "cell_type": "code",
   "execution_count": 15,
   "metadata": {},
   "outputs": [
    {
     "data": {
      "text/html": [
       "<div>\n",
       "<style scoped>\n",
       "    .dataframe tbody tr th:only-of-type {\n",
       "        vertical-align: middle;\n",
       "    }\n",
       "\n",
       "    .dataframe tbody tr th {\n",
       "        vertical-align: top;\n",
       "    }\n",
       "\n",
       "    .dataframe thead th {\n",
       "        text-align: right;\n",
       "    }\n",
       "</style>\n",
       "<table border=\"1\" class=\"dataframe\">\n",
       "  <thead>\n",
       "    <tr style=\"text-align: right;\">\n",
       "      <th></th>\n",
       "      <th>purchase_id</th>\n",
       "      <th>product_name</th>\n",
       "      <th>price</th>\n",
       "      <th>Payment_Mehtod</th>\n",
       "      <th>Status</th>\n",
       "      <th>Order_Type</th>\n",
       "      <th>City</th>\n",
       "      <th>Latitude</th>\n",
       "      <th>Longitude</th>\n",
       "      <th>Source</th>\n",
       "      <th>Brand</th>\n",
       "      <th>Category</th>\n",
       "      <th>Created_at</th>\n",
       "    </tr>\n",
       "  </thead>\n",
       "  <tbody>\n",
       "    <tr>\n",
       "      <th>0</th>\n",
       "      <td>b62cfc0e16</td>\n",
       "      <td>Apple iPhone 15 Pro 128GB</td>\n",
       "      <td>1179990</td>\n",
       "      <td>Cash</td>\n",
       "      <td>COMPLETED</td>\n",
       "      <td>STORE</td>\n",
       "      <td>Los Ángeles</td>\n",
       "      <td>-37.46827078074566</td>\n",
       "      <td>-72.35255427015483</td>\n",
       "      <td>On-site</td>\n",
       "      <td>Apple</td>\n",
       "      <td>Celulares y Teléfonos</td>\n",
       "      <td>2024-01-13 20:56:15</td>\n",
       "    </tr>\n",
       "  </tbody>\n",
       "</table>\n",
       "</div>"
      ],
      "text/plain": [
       "  purchase_id               product_name    price Payment_Mehtod     Status  \\\n",
       "0  b62cfc0e16  Apple iPhone 15 Pro 128GB  1179990           Cash  COMPLETED   \n",
       "\n",
       "  Order_Type         City            Latitude           Longitude   Source  \\\n",
       "0      STORE  Los Ángeles  -37.46827078074566  -72.35255427015483  On-site   \n",
       "\n",
       "   Brand               Category           Created_at  \n",
       "0  Apple  Celulares y Teléfonos  2024-01-13 20:56:15  "
      ]
     },
     "execution_count": 15,
     "metadata": {},
     "output_type": "execute_result"
    }
   ],
   "source": [
    "data_purchase[0]"
   ]
  },
  {
   "cell_type": "code",
   "execution_count": 16,
   "metadata": {},
   "outputs": [
    {
     "data": {
      "text/html": [
       "<div>\n",
       "<style scoped>\n",
       "    .dataframe tbody tr th:only-of-type {\n",
       "        vertical-align: middle;\n",
       "    }\n",
       "\n",
       "    .dataframe tbody tr th {\n",
       "        vertical-align: top;\n",
       "    }\n",
       "\n",
       "    .dataframe thead th {\n",
       "        text-align: right;\n",
       "    }\n",
       "</style>\n",
       "<table border=\"1\" class=\"dataframe\">\n",
       "  <thead>\n",
       "    <tr style=\"text-align: right;\">\n",
       "      <th></th>\n",
       "      <th>purchase_id</th>\n",
       "      <th>product_name</th>\n",
       "      <th>price</th>\n",
       "      <th>Payment_Mehtod</th>\n",
       "      <th>Status</th>\n",
       "      <th>Order_Type</th>\n",
       "      <th>City</th>\n",
       "      <th>Latitude</th>\n",
       "      <th>Longitude</th>\n",
       "      <th>Source</th>\n",
       "      <th>Brand</th>\n",
       "      <th>Category</th>\n",
       "      <th>Created_at</th>\n",
       "    </tr>\n",
       "  </thead>\n",
       "  <tbody>\n",
       "    <tr>\n",
       "      <th>0</th>\n",
       "      <td>b62cfc0e16</td>\n",
       "      <td>Apple iPhone 15 Pro 128GB</td>\n",
       "      <td>1179990</td>\n",
       "      <td>Cash</td>\n",
       "      <td>COMPLETED</td>\n",
       "      <td>STORE</td>\n",
       "      <td>Los Ángeles</td>\n",
       "      <td>-37.46827078074566</td>\n",
       "      <td>-72.35255427015483</td>\n",
       "      <td>On-site</td>\n",
       "      <td>Apple</td>\n",
       "      <td>Celulares y Teléfonos</td>\n",
       "      <td>2024-01-13 20:56:15</td>\n",
       "    </tr>\n",
       "    <tr>\n",
       "      <th>1</th>\n",
       "      <td>66ef7d46d6</td>\n",
       "      <td>LED 50” AU7090 4K UHD Smart TV 2022</td>\n",
       "      <td>309990</td>\n",
       "      <td>Debit_card</td>\n",
       "      <td>FRAUD</td>\n",
       "      <td>ONLINE</td>\n",
       "      <td>Santiago</td>\n",
       "      <td>-33.41811053129037</td>\n",
       "      <td>-70.6069033367</td>\n",
       "      <td>Online</td>\n",
       "      <td>Samsung</td>\n",
       "      <td>TV y Video</td>\n",
       "      <td>2024-01-13 20:56:17</td>\n",
       "    </tr>\n",
       "    <tr>\n",
       "      <th>2</th>\n",
       "      <td>9d3403646b</td>\n",
       "      <td>LED 50” AU7090 4K UHD Smart TV 2022</td>\n",
       "      <td>309990</td>\n",
       "      <td>Debit_card</td>\n",
       "      <td>COMPLETED</td>\n",
       "      <td>STORE</td>\n",
       "      <td>Concepción</td>\n",
       "      <td>-36.82574208790205</td>\n",
       "      <td>-73.0484756767045</td>\n",
       "      <td>On-site</td>\n",
       "      <td>Samsung</td>\n",
       "      <td>TV y Video</td>\n",
       "      <td>2024-01-13 20:56:18</td>\n",
       "    </tr>\n",
       "    <tr>\n",
       "      <th>3</th>\n",
       "      <td>17929d93b3</td>\n",
       "      <td>Celular Samsung Galaxy S23 Ultra 512GB</td>\n",
       "      <td>1199990</td>\n",
       "      <td>Cash</td>\n",
       "      <td>COMPLETED</td>\n",
       "      <td>STORE</td>\n",
       "      <td>Concepción</td>\n",
       "      <td>-36.82574208790205</td>\n",
       "      <td>-73.0484756767045</td>\n",
       "      <td>On-site</td>\n",
       "      <td>Samsung</td>\n",
       "      <td>Celulares y Teléfonos</td>\n",
       "      <td>2024-01-13 20:56:20</td>\n",
       "    </tr>\n",
       "    <tr>\n",
       "      <th>4</th>\n",
       "      <td>9d3dddd2c6</td>\n",
       "      <td>Mouse Gamer G203 Prodigy Logitech</td>\n",
       "      <td>19990</td>\n",
       "      <td>Credit_card</td>\n",
       "      <td>COMPLETED</td>\n",
       "      <td>STORE</td>\n",
       "      <td>Los Ángeles</td>\n",
       "      <td>-37.46827078074566</td>\n",
       "      <td>-72.35255427015483</td>\n",
       "      <td>On-site</td>\n",
       "      <td>Logitech</td>\n",
       "      <td>Computadores</td>\n",
       "      <td>2024-01-13 20:56:21</td>\n",
       "    </tr>\n",
       "  </tbody>\n",
       "</table>\n",
       "</div>"
      ],
      "text/plain": [
       "  purchase_id                            product_name    price Payment_Mehtod  \\\n",
       "0  b62cfc0e16               Apple iPhone 15 Pro 128GB  1179990           Cash   \n",
       "1  66ef7d46d6     LED 50” AU7090 4K UHD Smart TV 2022   309990     Debit_card   \n",
       "2  9d3403646b     LED 50” AU7090 4K UHD Smart TV 2022   309990     Debit_card   \n",
       "3  17929d93b3  Celular Samsung Galaxy S23 Ultra 512GB  1199990           Cash   \n",
       "4  9d3dddd2c6       Mouse Gamer G203 Prodigy Logitech    19990    Credit_card   \n",
       "\n",
       "      Status Order_Type         City            Latitude           Longitude  \\\n",
       "0  COMPLETED      STORE  Los Ángeles  -37.46827078074566  -72.35255427015483   \n",
       "1      FRAUD     ONLINE     Santiago  -33.41811053129037      -70.6069033367   \n",
       "2  COMPLETED      STORE   Concepción  -36.82574208790205   -73.0484756767045   \n",
       "3  COMPLETED      STORE   Concepción  -36.82574208790205   -73.0484756767045   \n",
       "4  COMPLETED      STORE  Los Ángeles  -37.46827078074566  -72.35255427015483   \n",
       "\n",
       "    Source     Brand               Category           Created_at  \n",
       "0  On-site     Apple  Celulares y Teléfonos  2024-01-13 20:56:15  \n",
       "1   Online   Samsung             TV y Video  2024-01-13 20:56:17  \n",
       "2  On-site   Samsung             TV y Video  2024-01-13 20:56:18  \n",
       "3  On-site   Samsung  Celulares y Teléfonos  2024-01-13 20:56:20  \n",
       "4  On-site  Logitech           Computadores  2024-01-13 20:56:21  "
      ]
     },
     "execution_count": 16,
     "metadata": {},
     "output_type": "execute_result"
    }
   ],
   "source": [
    "df_final = pd.concat(data_purchase, ignore_index=True)\n",
    "df_final"
   ]
  }
 ],
 "metadata": {
  "kernelspec": {
   "display_name": ".venv",
   "language": "python",
   "name": "python3"
  },
  "language_info": {
   "codemirror_mode": {
    "name": "ipython",
    "version": 3
   },
   "file_extension": ".py",
   "mimetype": "text/x-python",
   "name": "python",
   "nbconvert_exporter": "python",
   "pygments_lexer": "ipython3",
   "version": "3.11.7"
  }
 },
 "nbformat": 4,
 "nbformat_minor": 2
}
